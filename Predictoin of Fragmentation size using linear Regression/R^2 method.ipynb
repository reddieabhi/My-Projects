{
 "cells": [
  {
   "cell_type": "code",
   "execution_count": 2,
   "id": "9ee7e03f",
   "metadata": {},
   "outputs": [],
   "source": [
    "import numpy as np\n",
    "import matplotlib.pyplot as plt\n",
    "import pandas as pd"
   ]
  },
  {
   "cell_type": "code",
   "execution_count": 30,
   "id": "7787fd4b",
   "metadata": {},
   "outputs": [],
   "source": [
    "data = pd.read_csv(\"C:\\\\Users\\\\babhi\\\\OneDrive\\\\Desktop\\\\AI-ML\\\\Linear Regression\\\\houses and prices.csv\")"
   ]
  },
  {
   "cell_type": "code",
   "execution_count": 31,
   "id": "f0f5bbbb",
   "metadata": {},
   "outputs": [],
   "source": [
    "data = data.iloc[0:125,1:3]"
   ]
  },
  {
   "cell_type": "code",
   "execution_count": 32,
   "id": "553b2107",
   "metadata": {},
   "outputs": [
    {
     "data": {
      "text/html": [
       "<div>\n",
       "<style scoped>\n",
       "    .dataframe tbody tr th:only-of-type {\n",
       "        vertical-align: middle;\n",
       "    }\n",
       "\n",
       "    .dataframe tbody tr th {\n",
       "        vertical-align: top;\n",
       "    }\n",
       "\n",
       "    .dataframe thead th {\n",
       "        text-align: right;\n",
       "    }\n",
       "</style>\n",
       "<table border=\"1\" class=\"dataframe\">\n",
       "  <thead>\n",
       "    <tr style=\"text-align: right;\">\n",
       "      <th></th>\n",
       "      <th>Price</th>\n",
       "      <th>Square feets</th>\n",
       "    </tr>\n",
       "  </thead>\n",
       "  <tbody>\n",
       "    <tr>\n",
       "      <th>0</th>\n",
       "      <td>114300.0</td>\n",
       "      <td>1790.0</td>\n",
       "    </tr>\n",
       "    <tr>\n",
       "      <th>1</th>\n",
       "      <td>114200.0</td>\n",
       "      <td>2030.0</td>\n",
       "    </tr>\n",
       "    <tr>\n",
       "      <th>2</th>\n",
       "      <td>114800.0</td>\n",
       "      <td>1740.0</td>\n",
       "    </tr>\n",
       "    <tr>\n",
       "      <th>3</th>\n",
       "      <td>94700.0</td>\n",
       "      <td>1980.0</td>\n",
       "    </tr>\n",
       "    <tr>\n",
       "      <th>4</th>\n",
       "      <td>119800.0</td>\n",
       "      <td>2130.0</td>\n",
       "    </tr>\n",
       "    <tr>\n",
       "      <th>...</th>\n",
       "      <td>...</td>\n",
       "      <td>...</td>\n",
       "    </tr>\n",
       "    <tr>\n",
       "      <th>120</th>\n",
       "      <td>110400.0</td>\n",
       "      <td>1930.0</td>\n",
       "    </tr>\n",
       "    <tr>\n",
       "      <th>121</th>\n",
       "      <td>105600.0</td>\n",
       "      <td>1930.0</td>\n",
       "    </tr>\n",
       "    <tr>\n",
       "      <th>122</th>\n",
       "      <td>144800.0</td>\n",
       "      <td>2060.0</td>\n",
       "    </tr>\n",
       "    <tr>\n",
       "      <th>123</th>\n",
       "      <td>119700.0</td>\n",
       "      <td>1900.0</td>\n",
       "    </tr>\n",
       "    <tr>\n",
       "      <th>124</th>\n",
       "      <td>147900.0</td>\n",
       "      <td>2160.0</td>\n",
       "    </tr>\n",
       "  </tbody>\n",
       "</table>\n",
       "<p>125 rows × 2 columns</p>\n",
       "</div>"
      ],
      "text/plain": [
       "        Price  Square feets\n",
       "0    114300.0        1790.0\n",
       "1    114200.0        2030.0\n",
       "2    114800.0        1740.0\n",
       "3     94700.0        1980.0\n",
       "4    119800.0        2130.0\n",
       "..        ...           ...\n",
       "120  110400.0        1930.0\n",
       "121  105600.0        1930.0\n",
       "122  144800.0        2060.0\n",
       "123  119700.0        1900.0\n",
       "124  147900.0        2160.0\n",
       "\n",
       "[125 rows x 2 columns]"
      ]
     },
     "execution_count": 32,
     "metadata": {},
     "output_type": "execute_result"
    }
   ],
   "source": [
    "data"
   ]
  },
  {
   "cell_type": "code",
   "execution_count": 33,
   "id": "9543d7bb",
   "metadata": {},
   "outputs": [],
   "source": [
    "prices = np.array(data['Price'])"
   ]
  },
  {
   "cell_type": "code",
   "execution_count": 34,
   "id": "c8f189ef",
   "metadata": {},
   "outputs": [],
   "source": [
    "area = np.array(data['Square feets'])"
   ]
  },
  {
   "cell_type": "code",
   "execution_count": 36,
   "id": "107cd7bb",
   "metadata": {},
   "outputs": [
    {
     "data": {
      "text/plain": [
       "numpy.ndarray"
      ]
     },
     "execution_count": 36,
     "metadata": {},
     "output_type": "execute_result"
    }
   ],
   "source": [
    "type(prices)"
   ]
  },
  {
   "cell_type": "code",
   "execution_count": 40,
   "id": "e6b5e02f",
   "metadata": {},
   "outputs": [],
   "source": [
    "meanprices = prices.mean()\n",
    "meanarea = area.mean()"
   ]
  },
  {
   "cell_type": "code",
   "execution_count": 39,
   "id": "d94e365a",
   "metadata": {},
   "outputs": [
    {
     "data": {
      "text/plain": [
       "130453.6"
      ]
     },
     "execution_count": 39,
     "metadata": {},
     "output_type": "execute_result"
    }
   ],
   "source": [
    "meanprices"
   ]
  },
  {
   "cell_type": "code",
   "execution_count": 42,
   "id": "e29331c5",
   "metadata": {},
   "outputs": [
    {
     "data": {
      "text/plain": [
       "1998.24"
      ]
     },
     "execution_count": 42,
     "metadata": {},
     "output_type": "execute_result"
    }
   ],
   "source": [
    "meanarea"
   ]
  },
  {
   "cell_type": "markdown",
   "id": "e0e956ac",
   "metadata": {},
   "source": [
    "Generating hypothesis. here we will use summation((x-ux)(y-uy)//summation((x-ux)**2)"
   ]
  },
  {
   "cell_type": "code",
   "execution_count": 46,
   "id": "fd0da924",
   "metadata": {},
   "outputs": [],
   "source": [
    "numer = 0\n",
    "denom = 0\n",
    "for i in range(len(area)):\n",
    "    numer += (prices[i]-meanprices)*(area[i]-meanarea)\n",
    "    denom += (area[i]-meanarea)**2\n",
    "\n",
    "slope = numer/denom\n"
   ]
  },
  {
   "cell_type": "code",
   "execution_count": 47,
   "id": "51da18f2",
   "metadata": {},
   "outputs": [
    {
     "data": {
      "text/plain": [
       "71.47946821371713"
      ]
     },
     "execution_count": 47,
     "metadata": {},
     "output_type": "execute_result"
    }
   ],
   "source": [
    "slope"
   ]
  },
  {
   "cell_type": "markdown",
   "id": "6d07756a",
   "metadata": {},
   "source": [
    "meanprices = meanarea * slope + c,\n",
    "\n",
    "\n",
    "c = meanprices - meanarea*slope \n"
   ]
  },
  {
   "cell_type": "code",
   "execution_count": 48,
   "id": "2cd4c668",
   "metadata": {},
   "outputs": [],
   "source": [
    "c = meanprices - meanarea*slope"
   ]
  },
  {
   "cell_type": "code",
   "execution_count": 49,
   "id": "4c5d133a",
   "metadata": {},
   "outputs": [
    {
     "data": {
      "text/plain": [
       "-12379.532563378103"
      ]
     },
     "execution_count": 49,
     "metadata": {},
     "output_type": "execute_result"
    }
   ],
   "source": [
    "c"
   ]
  },
  {
   "cell_type": "code",
   "execution_count": 52,
   "id": "224e8075",
   "metadata": {},
   "outputs": [],
   "source": [
    "def prediction(area):\n",
    "    price = area*slope + c\n",
    "    return price"
   ]
  },
  {
   "cell_type": "code",
   "execution_count": 54,
   "id": "c2e91fc9",
   "metadata": {},
   "outputs": [
    {
     "data": {
      "text/plain": [
       "130453.6"
      ]
     },
     "execution_count": 54,
     "metadata": {},
     "output_type": "execute_result"
    }
   ],
   "source": [
    "prediction(1998.24)"
   ]
  },
  {
   "cell_type": "markdown",
   "id": "c1373aaa",
   "metadata": {},
   "source": [
    "Calculation of goodness of our generated hypothesis\n",
    "\n",
    "R square = summation(ypred-uy)**2/summation(yactual-ymean)**2\n",
    "if R square is near to 1 our algorithm is super efficient"
   ]
  },
  {
   "cell_type": "code",
   "execution_count": 56,
   "id": "a98a47bf",
   "metadata": {},
   "outputs": [
    {
     "data": {
      "text/plain": [
       "0.31541375142319056"
      ]
     },
     "execution_count": 56,
     "metadata": {},
     "output_type": "execute_result"
    }
   ],
   "source": [
    "nu = 0\n",
    "de = 0\n",
    "for i in range(len(area)):\n",
    "    nu += (prediction(area[i])-meanprices)**2\n",
    "    de += (prices[i]-meanprices)**2\n",
    "R = nu/de\n",
    "R"
   ]
  },
  {
   "cell_type": "markdown",
   "id": "e1ad84d6",
   "metadata": {},
   "source": [
    " R is very less hence our algorithm is not  efficient\n"
   ]
  },
  {
   "cell_type": "code",
   "execution_count": null,
   "id": "dd996c77",
   "metadata": {},
   "outputs": [],
   "source": []
  }
 ],
 "metadata": {
  "kernelspec": {
   "display_name": "Python 3 (ipykernel)",
   "language": "python",
   "name": "python3"
  },
  "language_info": {
   "codemirror_mode": {
    "name": "ipython",
    "version": 3
   },
   "file_extension": ".py",
   "mimetype": "text/x-python",
   "name": "python",
   "nbconvert_exporter": "python",
   "pygments_lexer": "ipython3",
   "version": "3.9.7"
  }
 },
 "nbformat": 4,
 "nbformat_minor": 5
}
