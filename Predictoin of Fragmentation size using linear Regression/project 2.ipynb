{
 "cells": [
  {
   "cell_type": "markdown",
   "id": "04389789",
   "metadata": {},
   "source": [
    "### Multivariable Linear Regression model for investigation of blast performance"
   ]
  },
  {
   "cell_type": "markdown",
   "id": "fb51bd02",
   "metadata": {},
   "source": [
    "### Inputs paramterers given:\n",
    "Burden in meteres(m)\n",
    "\n",
    "spacing in meters(m)\n",
    "\n",
    "Hole diameter in millimeters(mm)\n",
    "\n",
    "bench height in meters(m)\n",
    "\n",
    "Stemming in meters(m)\n",
    "\n",
    "Maximum Charge per dekay in kilograms(kg)\n",
    "\n",
    "Total charge in a blast in kilograms(kg)\n",
    "\n",
    "Holedepth in meters(m)\n",
    "\n",
    "### Outputs obtained\n",
    "\n",
    "Mean Fragment Size (MFS)"
   ]
  },
  {
   "cell_type": "code",
   "execution_count": null,
   "id": "1c060303",
   "metadata": {},
   "outputs": [],
   "source": [
    "We will develop a Linearly related model using python libraries that predicts the outcome of the behaviour of source variables given as input."
   ]
  },
  {
   "cell_type": "code",
   "execution_count": null,
   "id": "e68c5b3d",
   "metadata": {},
   "outputs": [],
   "source": []
  },
  {
   "cell_type": "code",
   "execution_count": 2,
   "id": "c9687fa2",
   "metadata": {},
   "outputs": [],
   "source": [
    "import numpy as np\n",
    "import pandas as pd\n",
    "import seaborn as sns\n",
    "from sklearn.linear_model import LinearRegression\n",
    "from sklearn.model_selection import train_test_split\n",
    "import statsmodels.formula.api as smf\n",
    "import matplotlib.pyplot as plt"
   ]
  },
  {
   "cell_type": "code",
   "execution_count": 3,
   "id": "e8293bd2",
   "metadata": {},
   "outputs": [],
   "source": [
    "data = pd.read_csv(\"C:\\\\Users\\\\babhi\\\\Downloads\\\\read2.csv\")"
   ]
  },
  {
   "cell_type": "code",
   "execution_count": 5,
   "id": "f10b2a3b",
   "metadata": {},
   "outputs": [
    {
     "data": {
      "text/html": [
       "<div>\n",
       "<style scoped>\n",
       "    .dataframe tbody tr th:only-of-type {\n",
       "        vertical-align: middle;\n",
       "    }\n",
       "\n",
       "    .dataframe tbody tr th {\n",
       "        vertical-align: top;\n",
       "    }\n",
       "\n",
       "    .dataframe thead th {\n",
       "        text-align: right;\n",
       "    }\n",
       "</style>\n",
       "<table border=\"1\" class=\"dataframe\">\n",
       "  <thead>\n",
       "    <tr style=\"text-align: right;\">\n",
       "      <th></th>\n",
       "      <th>9</th>\n",
       "      <th>1</th>\n",
       "      <th>1.67</th>\n",
       "      <th>33.33</th>\n",
       "      <th>1.28</th>\n",
       "      <th>0.26</th>\n",
       "      <th>0.1</th>\n",
       "      <th>10</th>\n",
       "      <th>0.1.1</th>\n",
       "      <th>1.1</th>\n",
       "    </tr>\n",
       "  </thead>\n",
       "  <tbody>\n",
       "    <tr>\n",
       "      <th>0</th>\n",
       "      <td>6.0</td>\n",
       "      <td>1.00</td>\n",
       "      <td>2.50</td>\n",
       "      <td>22.22</td>\n",
       "      <td>1.69</td>\n",
       "      <td>0.71</td>\n",
       "      <td>0.02</td>\n",
       "      <td>10.00</td>\n",
       "      <td>0.02</td>\n",
       "      <td>1.00</td>\n",
       "    </tr>\n",
       "    <tr>\n",
       "      <th>1</th>\n",
       "      <td>9.0</td>\n",
       "      <td>1.00</td>\n",
       "      <td>1.67</td>\n",
       "      <td>33.33</td>\n",
       "      <td>0.72</td>\n",
       "      <td>0.46</td>\n",
       "      <td>0.10</td>\n",
       "      <td>10.00</td>\n",
       "      <td>0.09</td>\n",
       "      <td>1.11</td>\n",
       "    </tr>\n",
       "    <tr>\n",
       "      <th>2</th>\n",
       "      <td>9.0</td>\n",
       "      <td>1.00</td>\n",
       "      <td>1.67</td>\n",
       "      <td>33.33</td>\n",
       "      <td>1.25</td>\n",
       "      <td>0.27</td>\n",
       "      <td>0.10</td>\n",
       "      <td>10.00</td>\n",
       "      <td>0.09</td>\n",
       "      <td>1.11</td>\n",
       "    </tr>\n",
       "    <tr>\n",
       "      <th>3</th>\n",
       "      <td>9.0</td>\n",
       "      <td>1.00</td>\n",
       "      <td>1.67</td>\n",
       "      <td>33.33</td>\n",
       "      <td>0.70</td>\n",
       "      <td>0.47</td>\n",
       "      <td>0.10</td>\n",
       "      <td>10.00</td>\n",
       "      <td>0.08</td>\n",
       "      <td>1.25</td>\n",
       "    </tr>\n",
       "    <tr>\n",
       "      <th>4</th>\n",
       "      <td>2.0</td>\n",
       "      <td>1.25</td>\n",
       "      <td>5.10</td>\n",
       "      <td>20.00</td>\n",
       "      <td>1.75</td>\n",
       "      <td>0.70</td>\n",
       "      <td>1.00</td>\n",
       "      <td>9.57</td>\n",
       "      <td>0.76</td>\n",
       "      <td>1.32</td>\n",
       "    </tr>\n",
       "    <tr>\n",
       "      <th>...</th>\n",
       "      <td>...</td>\n",
       "      <td>...</td>\n",
       "      <td>...</td>\n",
       "      <td>...</td>\n",
       "      <td>...</td>\n",
       "      <td>...</td>\n",
       "      <td>...</td>\n",
       "      <td>...</td>\n",
       "      <td>...</td>\n",
       "      <td>...</td>\n",
       "    </tr>\n",
       "    <tr>\n",
       "      <th>56</th>\n",
       "      <td>2.0</td>\n",
       "      <td>1.10</td>\n",
       "      <td>3.70</td>\n",
       "      <td>21.74</td>\n",
       "      <td>1.00</td>\n",
       "      <td>1.02</td>\n",
       "      <td>1.64</td>\n",
       "      <td>16.90</td>\n",
       "      <td>0.15</td>\n",
       "      <td>10.93</td>\n",
       "    </tr>\n",
       "    <tr>\n",
       "      <th>57</th>\n",
       "      <td>2.5</td>\n",
       "      <td>1.40</td>\n",
       "      <td>6.00</td>\n",
       "      <td>32.89</td>\n",
       "      <td>0.80</td>\n",
       "      <td>0.36</td>\n",
       "      <td>1.67</td>\n",
       "      <td>32.00</td>\n",
       "      <td>0.15</td>\n",
       "      <td>11.13</td>\n",
       "    </tr>\n",
       "    <tr>\n",
       "      <th>58</th>\n",
       "      <td>2.5</td>\n",
       "      <td>1.20</td>\n",
       "      <td>6.00</td>\n",
       "      <td>32.89</td>\n",
       "      <td>0.80</td>\n",
       "      <td>0.49</td>\n",
       "      <td>1.67</td>\n",
       "      <td>32.00</td>\n",
       "      <td>0.13</td>\n",
       "      <td>12.85</td>\n",
       "    </tr>\n",
       "    <tr>\n",
       "      <th>59</th>\n",
       "      <td>2.5</td>\n",
       "      <td>1.20</td>\n",
       "      <td>6.00</td>\n",
       "      <td>32.89</td>\n",
       "      <td>0.80</td>\n",
       "      <td>0.42</td>\n",
       "      <td>1.67</td>\n",
       "      <td>32.00</td>\n",
       "      <td>0.13</td>\n",
       "      <td>12.85</td>\n",
       "    </tr>\n",
       "    <tr>\n",
       "      <th>60</th>\n",
       "      <td>2.0</td>\n",
       "      <td>1.10</td>\n",
       "      <td>3.50</td>\n",
       "      <td>22.47</td>\n",
       "      <td>1.25</td>\n",
       "      <td>0.86</td>\n",
       "      <td>2.35</td>\n",
       "      <td>16.90</td>\n",
       "      <td>0.15</td>\n",
       "      <td>15.67</td>\n",
       "    </tr>\n",
       "  </tbody>\n",
       "</table>\n",
       "<p>61 rows × 10 columns</p>\n",
       "</div>"
      ],
      "text/plain": [
       "      9     1  1.67  33.33  1.28  0.26   0.1     10  0.1.1    1.1\n",
       "0   6.0  1.00  2.50  22.22  1.69  0.71  0.02  10.00   0.02   1.00\n",
       "1   9.0  1.00  1.67  33.33  0.72  0.46  0.10  10.00   0.09   1.11\n",
       "2   9.0  1.00  1.67  33.33  1.25  0.27  0.10  10.00   0.09   1.11\n",
       "3   9.0  1.00  1.67  33.33  0.70  0.47  0.10  10.00   0.08   1.25\n",
       "4   2.0  1.25  5.10  20.00  1.75  0.70  1.00   9.57   0.76   1.32\n",
       "..  ...   ...   ...    ...   ...   ...   ...    ...    ...    ...\n",
       "56  2.0  1.10  3.70  21.74  1.00  1.02  1.64  16.90   0.15  10.93\n",
       "57  2.5  1.40  6.00  32.89  0.80  0.36  1.67  32.00   0.15  11.13\n",
       "58  2.5  1.20  6.00  32.89  0.80  0.49  1.67  32.00   0.13  12.85\n",
       "59  2.5  1.20  6.00  32.89  0.80  0.42  1.67  32.00   0.13  12.85\n",
       "60  2.0  1.10  3.50  22.47  1.25  0.86  2.35  16.90   0.15  15.67\n",
       "\n",
       "[61 rows x 10 columns]"
      ]
     },
     "execution_count": 5,
     "metadata": {},
     "output_type": "execute_result"
    }
   ],
   "source": [
    "data"
   ]
  },
  {
   "cell_type": "code",
   "execution_count": 6,
   "id": "d13e40cc",
   "metadata": {},
   "outputs": [
    {
     "data": {
      "text/plain": [
       "9        0\n",
       "1        0\n",
       "1.67     0\n",
       "33.33    0\n",
       "1.28     0\n",
       "0.26     0\n",
       "0.1      0\n",
       "10       0\n",
       "0.1.1    0\n",
       "1.1      0\n",
       "dtype: int64"
      ]
     },
     "execution_count": 6,
     "metadata": {},
     "output_type": "execute_result"
    }
   ],
   "source": [
    "data.isnull().sum()"
   ]
  },
  {
   "cell_type": "code",
   "execution_count": 7,
   "id": "224cda89",
   "metadata": {},
   "outputs": [],
   "source": [
    "data = data.iloc[:,:9]"
   ]
  },
  {
   "cell_type": "code",
   "execution_count": 8,
   "id": "3106bbc5",
   "metadata": {},
   "outputs": [
    {
     "data": {
      "text/html": [
       "<div>\n",
       "<style scoped>\n",
       "    .dataframe tbody tr th:only-of-type {\n",
       "        vertical-align: middle;\n",
       "    }\n",
       "\n",
       "    .dataframe tbody tr th {\n",
       "        vertical-align: top;\n",
       "    }\n",
       "\n",
       "    .dataframe thead th {\n",
       "        text-align: right;\n",
       "    }\n",
       "</style>\n",
       "<table border=\"1\" class=\"dataframe\">\n",
       "  <thead>\n",
       "    <tr style=\"text-align: right;\">\n",
       "      <th></th>\n",
       "      <th>9</th>\n",
       "      <th>1</th>\n",
       "      <th>1.67</th>\n",
       "      <th>33.33</th>\n",
       "      <th>1.28</th>\n",
       "      <th>0.26</th>\n",
       "      <th>0.1</th>\n",
       "      <th>10</th>\n",
       "      <th>0.1.1</th>\n",
       "    </tr>\n",
       "  </thead>\n",
       "  <tbody>\n",
       "    <tr>\n",
       "      <th>0</th>\n",
       "      <td>6.0</td>\n",
       "      <td>1.00</td>\n",
       "      <td>2.50</td>\n",
       "      <td>22.22</td>\n",
       "      <td>1.69</td>\n",
       "      <td>0.71</td>\n",
       "      <td>0.02</td>\n",
       "      <td>10.00</td>\n",
       "      <td>0.02</td>\n",
       "    </tr>\n",
       "    <tr>\n",
       "      <th>1</th>\n",
       "      <td>9.0</td>\n",
       "      <td>1.00</td>\n",
       "      <td>1.67</td>\n",
       "      <td>33.33</td>\n",
       "      <td>0.72</td>\n",
       "      <td>0.46</td>\n",
       "      <td>0.10</td>\n",
       "      <td>10.00</td>\n",
       "      <td>0.09</td>\n",
       "    </tr>\n",
       "    <tr>\n",
       "      <th>2</th>\n",
       "      <td>9.0</td>\n",
       "      <td>1.00</td>\n",
       "      <td>1.67</td>\n",
       "      <td>33.33</td>\n",
       "      <td>1.25</td>\n",
       "      <td>0.27</td>\n",
       "      <td>0.10</td>\n",
       "      <td>10.00</td>\n",
       "      <td>0.09</td>\n",
       "    </tr>\n",
       "    <tr>\n",
       "      <th>3</th>\n",
       "      <td>9.0</td>\n",
       "      <td>1.00</td>\n",
       "      <td>1.67</td>\n",
       "      <td>33.33</td>\n",
       "      <td>0.70</td>\n",
       "      <td>0.47</td>\n",
       "      <td>0.10</td>\n",
       "      <td>10.00</td>\n",
       "      <td>0.08</td>\n",
       "    </tr>\n",
       "    <tr>\n",
       "      <th>4</th>\n",
       "      <td>2.0</td>\n",
       "      <td>1.25</td>\n",
       "      <td>5.10</td>\n",
       "      <td>20.00</td>\n",
       "      <td>1.75</td>\n",
       "      <td>0.70</td>\n",
       "      <td>1.00</td>\n",
       "      <td>9.57</td>\n",
       "      <td>0.76</td>\n",
       "    </tr>\n",
       "    <tr>\n",
       "      <th>...</th>\n",
       "      <td>...</td>\n",
       "      <td>...</td>\n",
       "      <td>...</td>\n",
       "      <td>...</td>\n",
       "      <td>...</td>\n",
       "      <td>...</td>\n",
       "      <td>...</td>\n",
       "      <td>...</td>\n",
       "      <td>...</td>\n",
       "    </tr>\n",
       "    <tr>\n",
       "      <th>56</th>\n",
       "      <td>2.0</td>\n",
       "      <td>1.10</td>\n",
       "      <td>3.70</td>\n",
       "      <td>21.74</td>\n",
       "      <td>1.00</td>\n",
       "      <td>1.02</td>\n",
       "      <td>1.64</td>\n",
       "      <td>16.90</td>\n",
       "      <td>0.15</td>\n",
       "    </tr>\n",
       "    <tr>\n",
       "      <th>57</th>\n",
       "      <td>2.5</td>\n",
       "      <td>1.40</td>\n",
       "      <td>6.00</td>\n",
       "      <td>32.89</td>\n",
       "      <td>0.80</td>\n",
       "      <td>0.36</td>\n",
       "      <td>1.67</td>\n",
       "      <td>32.00</td>\n",
       "      <td>0.15</td>\n",
       "    </tr>\n",
       "    <tr>\n",
       "      <th>58</th>\n",
       "      <td>2.5</td>\n",
       "      <td>1.20</td>\n",
       "      <td>6.00</td>\n",
       "      <td>32.89</td>\n",
       "      <td>0.80</td>\n",
       "      <td>0.49</td>\n",
       "      <td>1.67</td>\n",
       "      <td>32.00</td>\n",
       "      <td>0.13</td>\n",
       "    </tr>\n",
       "    <tr>\n",
       "      <th>59</th>\n",
       "      <td>2.5</td>\n",
       "      <td>1.20</td>\n",
       "      <td>6.00</td>\n",
       "      <td>32.89</td>\n",
       "      <td>0.80</td>\n",
       "      <td>0.42</td>\n",
       "      <td>1.67</td>\n",
       "      <td>32.00</td>\n",
       "      <td>0.13</td>\n",
       "    </tr>\n",
       "    <tr>\n",
       "      <th>60</th>\n",
       "      <td>2.0</td>\n",
       "      <td>1.10</td>\n",
       "      <td>3.50</td>\n",
       "      <td>22.47</td>\n",
       "      <td>1.25</td>\n",
       "      <td>0.86</td>\n",
       "      <td>2.35</td>\n",
       "      <td>16.90</td>\n",
       "      <td>0.15</td>\n",
       "    </tr>\n",
       "  </tbody>\n",
       "</table>\n",
       "<p>61 rows × 9 columns</p>\n",
       "</div>"
      ],
      "text/plain": [
       "      9     1  1.67  33.33  1.28  0.26   0.1     10  0.1.1\n",
       "0   6.0  1.00  2.50  22.22  1.69  0.71  0.02  10.00   0.02\n",
       "1   9.0  1.00  1.67  33.33  0.72  0.46  0.10  10.00   0.09\n",
       "2   9.0  1.00  1.67  33.33  1.25  0.27  0.10  10.00   0.09\n",
       "3   9.0  1.00  1.67  33.33  0.70  0.47  0.10  10.00   0.08\n",
       "4   2.0  1.25  5.10  20.00  1.75  0.70  1.00   9.57   0.76\n",
       "..  ...   ...   ...    ...   ...   ...   ...    ...    ...\n",
       "56  2.0  1.10  3.70  21.74  1.00  1.02  1.64  16.90   0.15\n",
       "57  2.5  1.40  6.00  32.89  0.80  0.36  1.67  32.00   0.15\n",
       "58  2.5  1.20  6.00  32.89  0.80  0.49  1.67  32.00   0.13\n",
       "59  2.5  1.20  6.00  32.89  0.80  0.42  1.67  32.00   0.13\n",
       "60  2.0  1.10  3.50  22.47  1.25  0.86  2.35  16.90   0.15\n",
       "\n",
       "[61 rows x 9 columns]"
      ]
     },
     "execution_count": 8,
     "metadata": {},
     "output_type": "execute_result"
    }
   ],
   "source": [
    "data\n"
   ]
  },
  {
   "cell_type": "code",
   "execution_count": null,
   "id": "bb7be44b",
   "metadata": {},
   "outputs": [],
   "source": []
  },
  {
   "cell_type": "code",
   "execution_count": 9,
   "id": "ecb47c89",
   "metadata": {},
   "outputs": [],
   "source": [
    "data.columns = ['B','StoB','HtoB','BtoD','TtoB','PF','Xb','E','D50']"
   ]
  },
  {
   "cell_type": "code",
   "execution_count": 10,
   "id": "effe47df",
   "metadata": {},
   "outputs": [
    {
     "data": {
      "text/html": [
       "<div>\n",
       "<style scoped>\n",
       "    .dataframe tbody tr th:only-of-type {\n",
       "        vertical-align: middle;\n",
       "    }\n",
       "\n",
       "    .dataframe tbody tr th {\n",
       "        vertical-align: top;\n",
       "    }\n",
       "\n",
       "    .dataframe thead th {\n",
       "        text-align: right;\n",
       "    }\n",
       "</style>\n",
       "<table border=\"1\" class=\"dataframe\">\n",
       "  <thead>\n",
       "    <tr style=\"text-align: right;\">\n",
       "      <th></th>\n",
       "      <th>B</th>\n",
       "      <th>StoB</th>\n",
       "      <th>HtoB</th>\n",
       "      <th>BtoD</th>\n",
       "      <th>TtoB</th>\n",
       "      <th>PF</th>\n",
       "      <th>Xb</th>\n",
       "      <th>E</th>\n",
       "      <th>D50</th>\n",
       "    </tr>\n",
       "  </thead>\n",
       "  <tbody>\n",
       "    <tr>\n",
       "      <th>0</th>\n",
       "      <td>6.0</td>\n",
       "      <td>1.00</td>\n",
       "      <td>2.50</td>\n",
       "      <td>22.22</td>\n",
       "      <td>1.69</td>\n",
       "      <td>0.71</td>\n",
       "      <td>0.02</td>\n",
       "      <td>10.00</td>\n",
       "      <td>0.02</td>\n",
       "    </tr>\n",
       "    <tr>\n",
       "      <th>1</th>\n",
       "      <td>9.0</td>\n",
       "      <td>1.00</td>\n",
       "      <td>1.67</td>\n",
       "      <td>33.33</td>\n",
       "      <td>0.72</td>\n",
       "      <td>0.46</td>\n",
       "      <td>0.10</td>\n",
       "      <td>10.00</td>\n",
       "      <td>0.09</td>\n",
       "    </tr>\n",
       "    <tr>\n",
       "      <th>2</th>\n",
       "      <td>9.0</td>\n",
       "      <td>1.00</td>\n",
       "      <td>1.67</td>\n",
       "      <td>33.33</td>\n",
       "      <td>1.25</td>\n",
       "      <td>0.27</td>\n",
       "      <td>0.10</td>\n",
       "      <td>10.00</td>\n",
       "      <td>0.09</td>\n",
       "    </tr>\n",
       "    <tr>\n",
       "      <th>3</th>\n",
       "      <td>9.0</td>\n",
       "      <td>1.00</td>\n",
       "      <td>1.67</td>\n",
       "      <td>33.33</td>\n",
       "      <td>0.70</td>\n",
       "      <td>0.47</td>\n",
       "      <td>0.10</td>\n",
       "      <td>10.00</td>\n",
       "      <td>0.08</td>\n",
       "    </tr>\n",
       "    <tr>\n",
       "      <th>4</th>\n",
       "      <td>2.0</td>\n",
       "      <td>1.25</td>\n",
       "      <td>5.10</td>\n",
       "      <td>20.00</td>\n",
       "      <td>1.75</td>\n",
       "      <td>0.70</td>\n",
       "      <td>1.00</td>\n",
       "      <td>9.57</td>\n",
       "      <td>0.76</td>\n",
       "    </tr>\n",
       "    <tr>\n",
       "      <th>...</th>\n",
       "      <td>...</td>\n",
       "      <td>...</td>\n",
       "      <td>...</td>\n",
       "      <td>...</td>\n",
       "      <td>...</td>\n",
       "      <td>...</td>\n",
       "      <td>...</td>\n",
       "      <td>...</td>\n",
       "      <td>...</td>\n",
       "    </tr>\n",
       "    <tr>\n",
       "      <th>56</th>\n",
       "      <td>2.0</td>\n",
       "      <td>1.10</td>\n",
       "      <td>3.70</td>\n",
       "      <td>21.74</td>\n",
       "      <td>1.00</td>\n",
       "      <td>1.02</td>\n",
       "      <td>1.64</td>\n",
       "      <td>16.90</td>\n",
       "      <td>0.15</td>\n",
       "    </tr>\n",
       "    <tr>\n",
       "      <th>57</th>\n",
       "      <td>2.5</td>\n",
       "      <td>1.40</td>\n",
       "      <td>6.00</td>\n",
       "      <td>32.89</td>\n",
       "      <td>0.80</td>\n",
       "      <td>0.36</td>\n",
       "      <td>1.67</td>\n",
       "      <td>32.00</td>\n",
       "      <td>0.15</td>\n",
       "    </tr>\n",
       "    <tr>\n",
       "      <th>58</th>\n",
       "      <td>2.5</td>\n",
       "      <td>1.20</td>\n",
       "      <td>6.00</td>\n",
       "      <td>32.89</td>\n",
       "      <td>0.80</td>\n",
       "      <td>0.49</td>\n",
       "      <td>1.67</td>\n",
       "      <td>32.00</td>\n",
       "      <td>0.13</td>\n",
       "    </tr>\n",
       "    <tr>\n",
       "      <th>59</th>\n",
       "      <td>2.5</td>\n",
       "      <td>1.20</td>\n",
       "      <td>6.00</td>\n",
       "      <td>32.89</td>\n",
       "      <td>0.80</td>\n",
       "      <td>0.42</td>\n",
       "      <td>1.67</td>\n",
       "      <td>32.00</td>\n",
       "      <td>0.13</td>\n",
       "    </tr>\n",
       "    <tr>\n",
       "      <th>60</th>\n",
       "      <td>2.0</td>\n",
       "      <td>1.10</td>\n",
       "      <td>3.50</td>\n",
       "      <td>22.47</td>\n",
       "      <td>1.25</td>\n",
       "      <td>0.86</td>\n",
       "      <td>2.35</td>\n",
       "      <td>16.90</td>\n",
       "      <td>0.15</td>\n",
       "    </tr>\n",
       "  </tbody>\n",
       "</table>\n",
       "<p>61 rows × 9 columns</p>\n",
       "</div>"
      ],
      "text/plain": [
       "      B  StoB  HtoB   BtoD  TtoB    PF    Xb      E   D50\n",
       "0   6.0  1.00  2.50  22.22  1.69  0.71  0.02  10.00  0.02\n",
       "1   9.0  1.00  1.67  33.33  0.72  0.46  0.10  10.00  0.09\n",
       "2   9.0  1.00  1.67  33.33  1.25  0.27  0.10  10.00  0.09\n",
       "3   9.0  1.00  1.67  33.33  0.70  0.47  0.10  10.00  0.08\n",
       "4   2.0  1.25  5.10  20.00  1.75  0.70  1.00   9.57  0.76\n",
       "..  ...   ...   ...    ...   ...   ...   ...    ...   ...\n",
       "56  2.0  1.10  3.70  21.74  1.00  1.02  1.64  16.90  0.15\n",
       "57  2.5  1.40  6.00  32.89  0.80  0.36  1.67  32.00  0.15\n",
       "58  2.5  1.20  6.00  32.89  0.80  0.49  1.67  32.00  0.13\n",
       "59  2.5  1.20  6.00  32.89  0.80  0.42  1.67  32.00  0.13\n",
       "60  2.0  1.10  3.50  22.47  1.25  0.86  2.35  16.90  0.15\n",
       "\n",
       "[61 rows x 9 columns]"
      ]
     },
     "execution_count": 10,
     "metadata": {},
     "output_type": "execute_result"
    }
   ],
   "source": [
    "data"
   ]
  },
  {
   "cell_type": "code",
   "execution_count": 11,
   "id": "ab1603af",
   "metadata": {},
   "outputs": [
    {
     "data": {
      "text/plain": [
       "B       float64\n",
       "StoB    float64\n",
       "HtoB    float64\n",
       "BtoD    float64\n",
       "TtoB    float64\n",
       "PF      float64\n",
       "Xb      float64\n",
       "E       float64\n",
       "D50     float64\n",
       "dtype: object"
      ]
     },
     "execution_count": 11,
     "metadata": {},
     "output_type": "execute_result"
    }
   ],
   "source": [
    "data.dtypes"
   ]
  },
  {
   "cell_type": "code",
   "execution_count": 12,
   "id": "643c16e8",
   "metadata": {},
   "outputs": [
    {
     "data": {
      "text/plain": [
       "<seaborn.axisgrid.PairGrid at 0x234072b3a60>"
      ]
     },
     "execution_count": 12,
     "metadata": {},
     "output_type": "execute_result"
    },
    {
     "data": {
      "image/png": "[encoded data removed]",
      "text/plain": [
       "<Figure size 1620x1620 with 90 Axes>"
      ]
     },
     "metadata": {
      "needs_background": "light"
     },
     "output_type": "display_data"
    }
   ],
   "source": [
    "sns.pairplot(data,diag_kind='kde')"
   ]
  },
  {
   "cell_type": "code",
   "execution_count": 14,
   "id": "eb14bdae",
   "metadata": {},
   "outputs": [],
   "source": [
    "x = data.iloc[:,:8]"
   ]
  },
  {
   "cell_type": "code",
   "execution_count": 15,
   "id": "9b6788fb",
   "metadata": {},
   "outputs": [
    {
     "data": {
      "text/html": [
       "<div>\n",
       "<style scoped>\n",
       "    .dataframe tbody tr th:only-of-type {\n",
       "        vertical-align: middle;\n",
       "    }\n",
       "\n",
       "    .dataframe tbody tr th {\n",
       "        vertical-align: top;\n",
       "    }\n",
       "\n",
       "    .dataframe thead th {\n",
       "        text-align: right;\n",
       "    }\n",
       "</style>\n",
       "<table border=\"1\" class=\"dataframe\">\n",
       "  <thead>\n",
       "    <tr style=\"text-align: right;\">\n",
       "      <th></th>\n",
       "      <th>B</th>\n",
       "      <th>StoB</th>\n",
       "      <th>HtoB</th>\n",
       "      <th>BtoD</th>\n",
       "      <th>TtoB</th>\n",
       "      <th>PF</th>\n",
       "      <th>Xb</th>\n",
       "      <th>E</th>\n",
       "    </tr>\n",
       "  </thead>\n",
       "  <tbody>\n",
       "    <tr>\n",
       "      <th>0</th>\n",
       "      <td>6.0</td>\n",
       "      <td>1.00</td>\n",
       "      <td>2.50</td>\n",
       "      <td>22.22</td>\n",
       "      <td>1.69</td>\n",
       "      <td>0.71</td>\n",
       "      <td>0.02</td>\n",
       "      <td>10.00</td>\n",
       "    </tr>\n",
       "    <tr>\n",
       "      <th>1</th>\n",
       "      <td>9.0</td>\n",
       "      <td>1.00</td>\n",
       "      <td>1.67</td>\n",
       "      <td>33.33</td>\n",
       "      <td>0.72</td>\n",
       "      <td>0.46</td>\n",
       "      <td>0.10</td>\n",
       "      <td>10.00</td>\n",
       "    </tr>\n",
       "    <tr>\n",
       "      <th>2</th>\n",
       "      <td>9.0</td>\n",
       "      <td>1.00</td>\n",
       "      <td>1.67</td>\n",
       "      <td>33.33</td>\n",
       "      <td>1.25</td>\n",
       "      <td>0.27</td>\n",
       "      <td>0.10</td>\n",
       "      <td>10.00</td>\n",
       "    </tr>\n",
       "    <tr>\n",
       "      <th>3</th>\n",
       "      <td>9.0</td>\n",
       "      <td>1.00</td>\n",
       "      <td>1.67</td>\n",
       "      <td>33.33</td>\n",
       "      <td>0.70</td>\n",
       "      <td>0.47</td>\n",
       "      <td>0.10</td>\n",
       "      <td>10.00</td>\n",
       "    </tr>\n",
       "    <tr>\n",
       "      <th>4</th>\n",
       "      <td>2.0</td>\n",
       "      <td>1.25</td>\n",
       "      <td>5.10</td>\n",
       "      <td>20.00</td>\n",
       "      <td>1.75</td>\n",
       "      <td>0.70</td>\n",
       "      <td>1.00</td>\n",
       "      <td>9.57</td>\n",
       "    </tr>\n",
       "    <tr>\n",
       "      <th>...</th>\n",
       "      <td>...</td>\n",
       "      <td>...</td>\n",
       "      <td>...</td>\n",
       "      <td>...</td>\n",
       "      <td>...</td>\n",
       "      <td>...</td>\n",
       "      <td>...</td>\n",
       "      <td>...</td>\n",
       "    </tr>\n",
       "    <tr>\n",
       "      <th>56</th>\n",
       "      <td>2.0</td>\n",
       "      <td>1.10</td>\n",
       "      <td>3.70</td>\n",
       "      <td>21.74</td>\n",
       "      <td>1.00</td>\n",
       "      <td>1.02</td>\n",
       "      <td>1.64</td>\n",
       "      <td>16.90</td>\n",
       "    </tr>\n",
       "    <tr>\n",
       "      <th>57</th>\n",
       "      <td>2.5</td>\n",
       "      <td>1.40</td>\n",
       "      <td>6.00</td>\n",
       "      <td>32.89</td>\n",
       "      <td>0.80</td>\n",
       "      <td>0.36</td>\n",
       "      <td>1.67</td>\n",
       "      <td>32.00</td>\n",
       "    </tr>\n",
       "    <tr>\n",
       "      <th>58</th>\n",
       "      <td>2.5</td>\n",
       "      <td>1.20</td>\n",
       "      <td>6.00</td>\n",
       "      <td>32.89</td>\n",
       "      <td>0.80</td>\n",
       "      <td>0.49</td>\n",
       "      <td>1.67</td>\n",
       "      <td>32.00</td>\n",
       "    </tr>\n",
       "    <tr>\n",
       "      <th>59</th>\n",
       "      <td>2.5</td>\n",
       "      <td>1.20</td>\n",
       "      <td>6.00</td>\n",
       "      <td>32.89</td>\n",
       "      <td>0.80</td>\n",
       "      <td>0.42</td>\n",
       "      <td>1.67</td>\n",
       "      <td>32.00</td>\n",
       "    </tr>\n",
       "    <tr>\n",
       "      <th>60</th>\n",
       "      <td>2.0</td>\n",
       "      <td>1.10</td>\n",
       "      <td>3.50</td>\n",
       "      <td>22.47</td>\n",
       "      <td>1.25</td>\n",
       "      <td>0.86</td>\n",
       "      <td>2.35</td>\n",
       "      <td>16.90</td>\n",
       "    </tr>\n",
       "  </tbody>\n",
       "</table>\n",
       "<p>61 rows × 8 columns</p>\n",
       "</div>"
      ],
      "text/plain": [
       "      B  StoB  HtoB   BtoD  TtoB    PF    Xb      E\n",
       "0   6.0  1.00  2.50  22.22  1.69  0.71  0.02  10.00\n",
       "1   9.0  1.00  1.67  33.33  0.72  0.46  0.10  10.00\n",
       "2   9.0  1.00  1.67  33.33  1.25  0.27  0.10  10.00\n",
       "3   9.0  1.00  1.67  33.33  0.70  0.47  0.10  10.00\n",
       "4   2.0  1.25  5.10  20.00  1.75  0.70  1.00   9.57\n",
       "..  ...   ...   ...    ...   ...   ...   ...    ...\n",
       "56  2.0  1.10  3.70  21.74  1.00  1.02  1.64  16.90\n",
       "57  2.5  1.40  6.00  32.89  0.80  0.36  1.67  32.00\n",
       "58  2.5  1.20  6.00  32.89  0.80  0.49  1.67  32.00\n",
       "59  2.5  1.20  6.00  32.89  0.80  0.42  1.67  32.00\n",
       "60  2.0  1.10  3.50  22.47  1.25  0.86  2.35  16.90\n",
       "\n",
       "[61 rows x 8 columns]"
      ]
     },
     "execution_count": 15,
     "metadata": {},
     "output_type": "execute_result"
    }
   ],
   "source": [
    "x"
   ]
  },
  {
   "cell_type": "code",
   "execution_count": 16,
   "id": "a45d4c8f",
   "metadata": {},
   "outputs": [],
   "source": [
    "y = data.iloc[:,8:9]"
   ]
  },
  {
   "cell_type": "code",
   "execution_count": 17,
   "id": "10343906",
   "metadata": {},
   "outputs": [
    {
     "data": {
      "text/html": [
       "<div>\n",
       "<style scoped>\n",
       "    .dataframe tbody tr th:only-of-type {\n",
       "        vertical-align: middle;\n",
       "    }\n",
       "\n",
       "    .dataframe tbody tr th {\n",
       "        vertical-align: top;\n",
       "    }\n",
       "\n",
       "    .dataframe thead th {\n",
       "        text-align: right;\n",
       "    }\n",
       "</style>\n",
       "<table border=\"1\" class=\"dataframe\">\n",
       "  <thead>\n",
       "    <tr style=\"text-align: right;\">\n",
       "      <th></th>\n",
       "      <th>D50</th>\n",
       "    </tr>\n",
       "  </thead>\n",
       "  <tbody>\n",
       "    <tr>\n",
       "      <th>0</th>\n",
       "      <td>0.02</td>\n",
       "    </tr>\n",
       "    <tr>\n",
       "      <th>1</th>\n",
       "      <td>0.09</td>\n",
       "    </tr>\n",
       "    <tr>\n",
       "      <th>2</th>\n",
       "      <td>0.09</td>\n",
       "    </tr>\n",
       "    <tr>\n",
       "      <th>3</th>\n",
       "      <td>0.08</td>\n",
       "    </tr>\n",
       "    <tr>\n",
       "      <th>4</th>\n",
       "      <td>0.76</td>\n",
       "    </tr>\n",
       "    <tr>\n",
       "      <th>...</th>\n",
       "      <td>...</td>\n",
       "    </tr>\n",
       "    <tr>\n",
       "      <th>56</th>\n",
       "      <td>0.15</td>\n",
       "    </tr>\n",
       "    <tr>\n",
       "      <th>57</th>\n",
       "      <td>0.15</td>\n",
       "    </tr>\n",
       "    <tr>\n",
       "      <th>58</th>\n",
       "      <td>0.13</td>\n",
       "    </tr>\n",
       "    <tr>\n",
       "      <th>59</th>\n",
       "      <td>0.13</td>\n",
       "    </tr>\n",
       "    <tr>\n",
       "      <th>60</th>\n",
       "      <td>0.15</td>\n",
       "    </tr>\n",
       "  </tbody>\n",
       "</table>\n",
       "<p>61 rows × 1 columns</p>\n",
       "</div>"
      ],
      "text/plain": [
       "     D50\n",
       "0   0.02\n",
       "1   0.09\n",
       "2   0.09\n",
       "3   0.08\n",
       "4   0.76\n",
       "..   ...\n",
       "56  0.15\n",
       "57  0.15\n",
       "58  0.13\n",
       "59  0.13\n",
       "60  0.15\n",
       "\n",
       "[61 rows x 1 columns]"
      ]
     },
     "execution_count": 17,
     "metadata": {},
     "output_type": "execute_result"
    }
   ],
   "source": [
    "y"
   ]
  },
  {
   "cell_type": "code",
   "execution_count": 18,
   "id": "82d267fb",
   "metadata": {},
   "outputs": [],
   "source": [
    "xtrain,xtest,ytrain,ytest = train_test_split(x,y,test_size=0.20,random_state=1)"
   ]
  },
  {
   "cell_type": "code",
   "execution_count": 19,
   "id": "8f881104",
   "metadata": {},
   "outputs": [
    {
     "data": {
      "text/plain": [
       "LinearRegression()"
      ]
     },
     "execution_count": 19,
     "metadata": {},
     "output_type": "execute_result"
    }
   ],
   "source": [
    "regressionmodel = LinearRegression()\n",
    "regressionmodel.fit(xtrain,ytrain)"
   ]
  },
  {
   "cell_type": "code",
   "execution_count": 21,
   "id": "17385341",
   "metadata": {},
   "outputs": [
    {
     "data": {
      "text/html": [
       "<div>\n",
       "<style scoped>\n",
       "    .dataframe tbody tr th:only-of-type {\n",
       "        vertical-align: middle;\n",
       "    }\n",
       "\n",
       "    .dataframe tbody tr th {\n",
       "        vertical-align: top;\n",
       "    }\n",
       "\n",
       "    .dataframe thead th {\n",
       "        text-align: right;\n",
       "    }\n",
       "</style>\n",
       "<table border=\"1\" class=\"dataframe\">\n",
       "  <thead>\n",
       "    <tr style=\"text-align: right;\">\n",
       "      <th></th>\n",
       "      <th>B</th>\n",
       "      <th>StoB</th>\n",
       "      <th>HtoB</th>\n",
       "      <th>BtoD</th>\n",
       "      <th>TtoB</th>\n",
       "      <th>PF</th>\n",
       "      <th>Xb</th>\n",
       "      <th>E</th>\n",
       "    </tr>\n",
       "  </thead>\n",
       "  <tbody>\n",
       "    <tr>\n",
       "      <th>40</th>\n",
       "      <td>2.50</td>\n",
       "      <td>1.12</td>\n",
       "      <td>2.80</td>\n",
       "      <td>28.09</td>\n",
       "      <td>1.00</td>\n",
       "      <td>0.54</td>\n",
       "      <td>0.96</td>\n",
       "      <td>16.90</td>\n",
       "    </tr>\n",
       "    <tr>\n",
       "      <th>42</th>\n",
       "      <td>2.20</td>\n",
       "      <td>1.14</td>\n",
       "      <td>6.82</td>\n",
       "      <td>24.72</td>\n",
       "      <td>1.36</td>\n",
       "      <td>0.84</td>\n",
       "      <td>1.43</td>\n",
       "      <td>16.90</td>\n",
       "    </tr>\n",
       "    <tr>\n",
       "      <th>2</th>\n",
       "      <td>9.00</td>\n",
       "      <td>1.00</td>\n",
       "      <td>1.67</td>\n",
       "      <td>33.33</td>\n",
       "      <td>1.25</td>\n",
       "      <td>0.27</td>\n",
       "      <td>0.10</td>\n",
       "      <td>10.00</td>\n",
       "    </tr>\n",
       "    <tr>\n",
       "      <th>49</th>\n",
       "      <td>2.20</td>\n",
       "      <td>1.14</td>\n",
       "      <td>6.36</td>\n",
       "      <td>24.70</td>\n",
       "      <td>1.36</td>\n",
       "      <td>0.82</td>\n",
       "      <td>1.77</td>\n",
       "      <td>16.90</td>\n",
       "    </tr>\n",
       "    <tr>\n",
       "      <th>51</th>\n",
       "      <td>2.00</td>\n",
       "      <td>1.25</td>\n",
       "      <td>3.50</td>\n",
       "      <td>22.47</td>\n",
       "      <td>1.25</td>\n",
       "      <td>0.76</td>\n",
       "      <td>1.68</td>\n",
       "      <td>16.90</td>\n",
       "    </tr>\n",
       "    <tr>\n",
       "      <th>26</th>\n",
       "      <td>2.20</td>\n",
       "      <td>1.14</td>\n",
       "      <td>3.18</td>\n",
       "      <td>24.72</td>\n",
       "      <td>1.14</td>\n",
       "      <td>0.69</td>\n",
       "      <td>0.67</td>\n",
       "      <td>16.90</td>\n",
       "    </tr>\n",
       "    <tr>\n",
       "      <th>34</th>\n",
       "      <td>6.00</td>\n",
       "      <td>1.25</td>\n",
       "      <td>2.50</td>\n",
       "      <td>28.57</td>\n",
       "      <td>0.83</td>\n",
       "      <td>0.42</td>\n",
       "      <td>1.50</td>\n",
       "      <td>13.25</td>\n",
       "    </tr>\n",
       "    <tr>\n",
       "      <th>36</th>\n",
       "      <td>2.50</td>\n",
       "      <td>1.20</td>\n",
       "      <td>2.40</td>\n",
       "      <td>28.09</td>\n",
       "      <td>1.00</td>\n",
       "      <td>0.53</td>\n",
       "      <td>0.86</td>\n",
       "      <td>15.00</td>\n",
       "    </tr>\n",
       "    <tr>\n",
       "      <th>41</th>\n",
       "      <td>2.50</td>\n",
       "      <td>1.40</td>\n",
       "      <td>6.00</td>\n",
       "      <td>32.89</td>\n",
       "      <td>0.60</td>\n",
       "      <td>0.35</td>\n",
       "      <td>1.03</td>\n",
       "      <td>32.00</td>\n",
       "    </tr>\n",
       "    <tr>\n",
       "      <th>39</th>\n",
       "      <td>1.75</td>\n",
       "      <td>1.14</td>\n",
       "      <td>4.00</td>\n",
       "      <td>18.42</td>\n",
       "      <td>1.71</td>\n",
       "      <td>1.10</td>\n",
       "      <td>1.19</td>\n",
       "      <td>16.90</td>\n",
       "    </tr>\n",
       "    <tr>\n",
       "      <th>24</th>\n",
       "      <td>2.00</td>\n",
       "      <td>1.25</td>\n",
       "      <td>4.75</td>\n",
       "      <td>20.00</td>\n",
       "      <td>1.75</td>\n",
       "      <td>0.33</td>\n",
       "      <td>1.00</td>\n",
       "      <td>9.57</td>\n",
       "    </tr>\n",
       "    <tr>\n",
       "      <th>54</th>\n",
       "      <td>2.50</td>\n",
       "      <td>1.20</td>\n",
       "      <td>6.00</td>\n",
       "      <td>32.89</td>\n",
       "      <td>0.80</td>\n",
       "      <td>0.52</td>\n",
       "      <td>1.67</td>\n",
       "      <td>32.00</td>\n",
       "    </tr>\n",
       "    <tr>\n",
       "      <th>46</th>\n",
       "      <td>1.80</td>\n",
       "      <td>1.11</td>\n",
       "      <td>4.44</td>\n",
       "      <td>18.95</td>\n",
       "      <td>1.67</td>\n",
       "      <td>1.25</td>\n",
       "      <td>1.71</td>\n",
       "      <td>16.90</td>\n",
       "    </tr>\n",
       "  </tbody>\n",
       "</table>\n",
       "</div>"
      ],
      "text/plain": [
       "       B  StoB  HtoB   BtoD  TtoB    PF    Xb      E\n",
       "40  2.50  1.12  2.80  28.09  1.00  0.54  0.96  16.90\n",
       "42  2.20  1.14  6.82  24.72  1.36  0.84  1.43  16.90\n",
       "2   9.00  1.00  1.67  33.33  1.25  0.27  0.10  10.00\n",
       "49  2.20  1.14  6.36  24.70  1.36  0.82  1.77  16.90\n",
       "51  2.00  1.25  3.50  22.47  1.25  0.76  1.68  16.90\n",
       "26  2.20  1.14  3.18  24.72  1.14  0.69  0.67  16.90\n",
       "34  6.00  1.25  2.50  28.57  0.83  0.42  1.50  13.25\n",
       "36  2.50  1.20  2.40  28.09  1.00  0.53  0.86  15.00\n",
       "41  2.50  1.40  6.00  32.89  0.60  0.35  1.03  32.00\n",
       "39  1.75  1.14  4.00  18.42  1.71  1.10  1.19  16.90\n",
       "24  2.00  1.25  4.75  20.00  1.75  0.33  1.00   9.57\n",
       "54  2.50  1.20  6.00  32.89  0.80  0.52  1.67  32.00\n",
       "46  1.80  1.11  4.44  18.95  1.67  1.25  1.71  16.90"
      ]
     },
     "execution_count": 21,
     "metadata": {},
     "output_type": "execute_result"
    }
   ],
   "source": [
    "xtest\n"
   ]
  },
  {
   "cell_type": "code",
   "execution_count": 22,
   "id": "5e60b52b",
   "metadata": {},
   "outputs": [
    {
     "data": {
      "text/html": [
       "<div>\n",
       "<style scoped>\n",
       "    .dataframe tbody tr th:only-of-type {\n",
       "        vertical-align: middle;\n",
       "    }\n",
       "\n",
       "    .dataframe tbody tr th {\n",
       "        vertical-align: top;\n",
       "    }\n",
       "\n",
       "    .dataframe thead th {\n",
       "        text-align: right;\n",
       "    }\n",
       "</style>\n",
       "<table border=\"1\" class=\"dataframe\">\n",
       "  <thead>\n",
       "    <tr style=\"text-align: right;\">\n",
       "      <th></th>\n",
       "      <th>D50</th>\n",
       "    </tr>\n",
       "  </thead>\n",
       "  <tbody>\n",
       "    <tr>\n",
       "      <th>40</th>\n",
       "      <td>0.15</td>\n",
       "    </tr>\n",
       "    <tr>\n",
       "      <th>42</th>\n",
       "      <td>0.21</td>\n",
       "    </tr>\n",
       "    <tr>\n",
       "      <th>2</th>\n",
       "      <td>0.09</td>\n",
       "    </tr>\n",
       "    <tr>\n",
       "      <th>49</th>\n",
       "      <td>0.21</td>\n",
       "    </tr>\n",
       "    <tr>\n",
       "      <th>51</th>\n",
       "      <td>0.18</td>\n",
       "    </tr>\n",
       "    <tr>\n",
       "      <th>26</th>\n",
       "      <td>0.14</td>\n",
       "    </tr>\n",
       "    <tr>\n",
       "      <th>34</th>\n",
       "      <td>0.26</td>\n",
       "    </tr>\n",
       "    <tr>\n",
       "      <th>36</th>\n",
       "      <td>0.14</td>\n",
       "    </tr>\n",
       "    <tr>\n",
       "      <th>41</th>\n",
       "      <td>0.16</td>\n",
       "    </tr>\n",
       "    <tr>\n",
       "      <th>39</th>\n",
       "      <td>0.19</td>\n",
       "    </tr>\n",
       "    <tr>\n",
       "      <th>24</th>\n",
       "      <td>0.23</td>\n",
       "    </tr>\n",
       "    <tr>\n",
       "      <th>54</th>\n",
       "      <td>0.17</td>\n",
       "    </tr>\n",
       "    <tr>\n",
       "      <th>46</th>\n",
       "      <td>0.22</td>\n",
       "    </tr>\n",
       "  </tbody>\n",
       "</table>\n",
       "</div>"
      ],
      "text/plain": [
       "     D50\n",
       "40  0.15\n",
       "42  0.21\n",
       "2   0.09\n",
       "49  0.21\n",
       "51  0.18\n",
       "26  0.14\n",
       "34  0.26\n",
       "36  0.14\n",
       "41  0.16\n",
       "39  0.19\n",
       "24  0.23\n",
       "54  0.17\n",
       "46  0.22"
      ]
     },
     "execution_count": 22,
     "metadata": {},
     "output_type": "execute_result"
    }
   ],
   "source": [
    "ytest"
   ]
  },
  {
   "cell_type": "code",
   "execution_count": 37,
   "id": "83a970fc",
   "metadata": {},
   "outputs": [],
   "source": [
    "testdata = np.array(xtest)"
   ]
  },
  {
   "cell_type": "code",
   "execution_count": 38,
   "id": "aa1f81d9",
   "metadata": {},
   "outputs": [
    {
     "data": {
      "text/plain": [
       "(13, 8)"
      ]
     },
     "execution_count": 38,
     "metadata": {},
     "output_type": "execute_result"
    }
   ],
   "source": [
    "testdata.shape"
   ]
  },
  {
   "cell_type": "code",
   "execution_count": 47,
   "id": "9ae05369",
   "metadata": {},
   "outputs": [],
   "source": [
    "coef = np.array([-0.01912902,  0.10565736,  0.04204909,  0.00303609,  0.01784411,\n",
    "        -0.14738604,  0.05079939, -0.01387849])"
   ]
  },
  {
   "cell_type": "code",
   "execution_count": 48,
   "id": "5252146e",
   "metadata": {},
   "outputs": [
    {
     "name": "stdout",
     "output_type": "stream",
     "text": [
      "-0.01912902\n",
      "0.10565736\n",
      "0.04204909\n",
      "0.00303609\n",
      "0.01784411\n",
      "-0.14738604\n",
      "0.05079939\n",
      "-0.01387849\n"
     ]
    }
   ],
   "source": [
    "for j in range(8):\n",
    "    print(coef[j])"
   ]
  },
  {
   "cell_type": "code",
   "execution_count": 52,
   "id": "67bd754a",
   "metadata": {},
   "outputs": [
    {
     "data": {
      "text/plain": [
       "[0.02601149510000006,\n",
       " 0.17875284769999994,\n",
       " -0.04628301430000001,\n",
       " 0.1795690579,\n",
       " 0.0702946586,\n",
       " 0.005268825500000018,\n",
       " 0.0543789633,\n",
       " 0.04040750029999998,\n",
       " 0.01958233779999996,\n",
       " 0.00538832039999998,\n",
       " 0.25484067749999995,\n",
       " 0.00947567059999993,\n",
       " 0.024966888300000045]"
      ]
     },
     "execution_count": 52,
     "metadata": {},
     "output_type": "execute_result"
    }
   ],
   "source": [
    "\n",
    "\n",
    "ypred = []\n",
    "for i in range(13):\n",
    "    y1 = 0\n",
    "    for j in range(8):\n",
    "        y1 += coef[j]*testdata[i][j]\n",
    "    ypred.append(y1)\n",
    "\n",
    "\n",
    "        \n"
   ]
  },
  {
   "cell_type": "code",
   "execution_count": 56,
   "id": "8e15d38c",
   "metadata": {},
   "outputs": [
    {
     "data": {
      "text/plain": [
       "array([[0.15],\n",
       "       [0.21],\n",
       "       [0.09],\n",
       "       [0.21],\n",
       "       [0.18],\n",
       "       [0.14],\n",
       "       [0.26],\n",
       "       [0.14],\n",
       "       [0.16],\n",
       "       [0.19],\n",
       "       [0.23],\n",
       "       [0.17],\n",
       "       [0.22]])"
      ]
     },
     "execution_count": 56,
     "metadata": {},
     "output_type": "execute_result"
    }
   ],
   "source": [
    "yorg = np.array(ytest)\n",
    "yorg"
   ]
  },
  {
   "cell_type": "code",
   "execution_count": 64,
   "id": "ea01c522",
   "metadata": {},
   "outputs": [
    {
     "data": {
      "text/plain": [
       "0.0181889761916701"
      ]
     },
     "execution_count": 64,
     "metadata": {},
     "output_type": "execute_result"
    }
   ],
   "source": [
    "sme = 0\n",
    "for i in range(13):\n",
    "    curr = ypred[i]-yorg[i]\n",
    "    \n",
    "    sme += curr[0]*curr[0]\n",
    "sme/=13\n",
    "sme"
   ]
  },
  {
   "cell_type": "code",
   "execution_count": 65,
   "id": "7c2fcb96",
   "metadata": {},
   "outputs": [
    {
     "data": {
      "text/plain": [
       "0.13486651249168602"
      ]
     },
     "execution_count": 65,
     "metadata": {},
     "output_type": "execute_result"
    }
   ],
   "source": [
    "sme**0.5"
   ]
  },
  {
   "cell_type": "code",
   "execution_count": 44,
   "id": "f71066e0",
   "metadata": {},
   "outputs": [
    {
     "data": {
      "text/plain": [
       "array([[-0.01912902,  0.10565736,  0.04204909,  0.00303609,  0.01784411,\n",
       "        -0.14738604,  0.05079939, -0.01387849]])"
      ]
     },
     "execution_count": 44,
     "metadata": {},
     "output_type": "execute_result"
    }
   ],
   "source": [
    "regressionmodel.coef_"
   ]
  },
  {
   "cell_type": "code",
   "execution_count": 49,
   "id": "92ca444d",
   "metadata": {},
   "outputs": [
    {
     "name": "stdout",
     "output_type": "stream",
     "text": [
      "The coefficient of B is -0.01912901970108043\n",
      "The coefficient of StoB is 0.10565735508814354\n",
      "The coefficient of HtoB is 0.042049090904264085\n",
      "The coefficient of BtoD is 0.0030360930059659097\n",
      "The coefficient of TtoB is 0.017844108326632423\n",
      "The coefficient of PF is -0.14738603681122486\n",
      "The coefficient of Xb is 0.0507993901638133\n",
      "The coefficient of E is -0.013878491130130916\n"
     ]
    }
   ],
   "source": [
    "for idx,columnames in  enumerate(xtrain.columns):\n",
    "    print(f'The coefficient of {columnames} is {regressionmodel.coef_[0][idx]}')"
   ]
  },
  {
   "cell_type": "code",
   "execution_count": 50,
   "id": "7ec47006",
   "metadata": {},
   "outputs": [
    {
     "data": {
      "text/plain": [
       "array([0.16728208])"
      ]
     },
     "execution_count": 50,
     "metadata": {},
     "output_type": "execute_result"
    }
   ],
   "source": [
    "intercept = regressionmodel.intercept_\n",
    "intercept"
   ]
  },
  {
   "cell_type": "code",
   "execution_count": 87,
   "id": "f9b165b5",
   "metadata": {},
   "outputs": [
    {
     "data": {
      "image/png": "[encoded data removed]",
      "text/plain": [
       "<Figure size 432x288 with 1 Axes>"
      ]
     },
     "metadata": {
      "needs_background": "light"
     },
     "output_type": "display_data"
    }
   ],
   "source": [
    "x1 = data['B']\n",
    "y = data['D50']\n",
    "plt.scatter(x1,y)\n",
    "x1nums = np.array([x1.min(),x1.max()])\n",
    "y1nums = x1nums*-0.01912901970108043\n",
    "plt.plot(x1nums,y1nums)\n",
    "plt.xlabel('Burden B(m)')\n",
    "plt.ylabel('MFS D50(m)')\n",
    "plt.rcParams['font.size'] = 10\n",
    "plt.show()"
   ]
  },
  {
   "cell_type": "code",
   "execution_count": 68,
   "id": "bffe1905",
   "metadata": {},
   "outputs": [
    {
     "data": {
      "image/png": "[encoded data removed]",
      "text/plain": [
       "<Figure size 432x288 with 1 Axes>"
      ]
     },
     "metadata": {
      "needs_background": "light"
     },
     "output_type": "display_data"
    }
   ],
   "source": [
    "x2 = data['StoB']\n",
    "y = data['D50']\n",
    "plt.scatter(x2,y)\n",
    "x2nums = np.array([x2.min(),x2.max()])\n",
    "y2nums = x2nums*0.10565735508814354\n",
    "plt.plot(x2nums,y2nums)\n",
    "plt.xlabel('Spacing to Burden ratio')\n",
    "plt.ylabel('MFS D50(m)')\n",
    "plt.show()"
   ]
  },
  {
   "cell_type": "code",
   "execution_count": 77,
   "id": "47bbe02d",
   "metadata": {},
   "outputs": [
    {
     "data": {
      "image/png": "[encoded data removed]",
      "text/plain": [
       "<Figure size 432x288 with 1 Axes>"
      ]
     },
     "metadata": {
      "needs_background": "light"
     },
     "output_type": "display_data"
    }
   ],
   "source": [
    "x3 = data['HtoB']\n",
    "y = data['D50']\n",
    "plt.scatter(x3,y)\n",
    "x3nums = np.array([x3.min(),x3.max()])\n",
    "y3nums = x3nums*0.042049090904264085\n",
    "plt.plot(x3nums,y3nums)\n",
    "plt.xlabel('Hole depth to Burden ratio')\n",
    "plt.ylabel('MFS D50(m)')\n",
    "plt.show()"
   ]
  },
  {
   "cell_type": "code",
   "execution_count": 72,
   "id": "500970bf",
   "metadata": {},
   "outputs": [
    {
     "data": {
      "image/png": "[encoded data removed]",
      "text/plain": [
       "<Figure size 432x288 with 1 Axes>"
      ]
     },
     "metadata": {
      "needs_background": "light"
     },
     "output_type": "display_data"
    }
   ],
   "source": [
    "x4 = data['BtoD']\n",
    "y = data['D50']\n",
    "plt.scatter(x4,y)\n",
    "x4nums = np.array([x4.min(),x4.max()])\n",
    "y4nums = x4nums*0.0030360930059659097\n",
    "plt.plot(x4nums,y4nums)\n",
    "plt.xlabel('Burden to depth ratio')\n",
    "plt.ylabel('MFS D50(m)')\n",
    "plt.show()"
   ]
  },
  {
   "cell_type": "code",
   "execution_count": 73,
   "id": "1c00d4f0",
   "metadata": {},
   "outputs": [
    {
     "data": {
      "image/png": "[encoded data removed]",
      "text/plain": [
       "<Figure size 432x288 with 1 Axes>"
      ]
     },
     "metadata": {
      "needs_background": "light"
     },
     "output_type": "display_data"
    }
   ],
   "source": [
    "x5 = data['TtoB']\n",
    "y = data['D50']\n",
    "plt.scatter(x5,y)\n",
    "x5nums = np.array([x5.min(),x5.max()])\n",
    "y5nums = x5nums*0.017844108326632423\n",
    "plt.plot(x5nums,y5nums)\n",
    "plt.xlabel('Stemming to Burden ratio')\n",
    "plt.ylabel('MFS D50(m)')\n",
    "plt.show()"
   ]
  },
  {
   "cell_type": "code",
   "execution_count": 74,
   "id": "6d44a7d8",
   "metadata": {},
   "outputs": [
    {
     "data": {
      "image/png": "[encoded data removed]",
      "text/plain": [
       "<Figure size 432x288 with 1 Axes>"
      ]
     },
     "metadata": {
      "needs_background": "light"
     },
     "output_type": "display_data"
    }
   ],
   "source": [
    "x6 = data['PF']\n",
    "y = data['D50']\n",
    "plt.scatter(x6,y)\n",
    "x6nums = np.array([x6.min(),x6.max()])\n",
    "y6nums = x6nums*-0.14738603681122486\n",
    "plt.plot(x6nums,y6nums)\n",
    "plt.xlabel('Powder Factor')\n",
    "plt.ylabel('MFS D50(m)')\n",
    "plt.show()"
   ]
  },
  {
   "cell_type": "code",
   "execution_count": 58,
   "id": "f98a9abc",
   "metadata": {},
   "outputs": [],
   "source": [
    "result = smf.ols(formula = \"D50~B+StoB+HtoB+BtoD+TtoB+PF+Xb+E\",data=data)"
   ]
  },
  {
   "cell_type": "code",
   "execution_count": 75,
   "id": "bae47e60",
   "metadata": {},
   "outputs": [
    {
     "data": {
      "image/png": "[encoded data removed]",
      "text/plain": [
       "<Figure size 432x288 with 1 Axes>"
      ]
     },
     "metadata": {
      "needs_background": "light"
     },
     "output_type": "display_data"
    }
   ],
   "source": [
    "x7 = data['Xb']\n",
    "y = data['D50']\n",
    "plt.scatter(x7,y)\n",
    "x7nums = np.array([x7.min(),x7.max()])\n",
    "y7nums = x7nums*0.0507993901638133\n",
    "plt.plot(x7nums,y7nums)\n",
    "plt.xlabel('Xb')\n",
    "plt.ylabel('MFS D50(m)')\n",
    "plt.show()"
   ]
  },
  {
   "cell_type": "code",
   "execution_count": null,
   "id": "31c5ba8f",
   "metadata": {},
   "outputs": [],
   "source": [
    "x8 = data['Xb']\n",
    "y = data['D50']\n",
    "plt.scatter(x7,y)\n",
    "x7nums = np.array([x7.min(),x7.max()])\n",
    "y7nums = x7nums*0.0507993901638133\n",
    "plt.plot(x7nums,y7nums)\n",
    "plt.xlabel('Xb')\n",
    "plt.ylabel('MFS D50(m)')\n",
    "plt.show()"
   ]
  },
  {
   "cell_type": "code",
   "execution_count": null,
   "id": "ae7ce6fd",
   "metadata": {},
   "outputs": [],
   "source": []
  },
  {
   "cell_type": "code",
   "execution_count": 59,
   "id": "77c8a0b4",
   "metadata": {},
   "outputs": [
    {
     "data": {
      "text/html": [
       "<table class=\"simpletable\">\n",
       "<caption>OLS Regression Results</caption>\n",
       "<tr>\n",
       "  <th>Dep. Variable:</th>           <td>D50</td>       <th>  R-squared:         </th> <td>   0.487</td>\n",
       "</tr>\n",
       "<tr>\n",
       "  <th>Model:</th>                   <td>OLS</td>       <th>  Adj. R-squared:    </th> <td>   0.408</td>\n",
       "</tr>\n",
       "<tr>\n",
       "  <th>Method:</th>             <td>Least Squares</td>  <th>  F-statistic:       </th> <td>   6.160</td>\n",
       "</tr>\n",
       "<tr>\n",
       "  <th>Date:</th>             <td>Mon, 14 Nov 2022</td> <th>  Prob (F-statistic):</th> <td>1.41e-05</td>\n",
       "</tr>\n",
       "<tr>\n",
       "  <th>Time:</th>                 <td>09:13:09</td>     <th>  Log-Likelihood:    </th> <td>  66.558</td>\n",
       "</tr>\n",
       "<tr>\n",
       "  <th>No. Observations:</th>      <td>    61</td>      <th>  AIC:               </th> <td>  -115.1</td>\n",
       "</tr>\n",
       "<tr>\n",
       "  <th>Df Residuals:</th>          <td>    52</td>      <th>  BIC:               </th> <td>  -96.12</td>\n",
       "</tr>\n",
       "<tr>\n",
       "  <th>Df Model:</th>              <td>     8</td>      <th>                     </th>     <td> </td>   \n",
       "</tr>\n",
       "<tr>\n",
       "  <th>Covariance Type:</th>      <td>nonrobust</td>    <th>                     </th>     <td> </td>   \n",
       "</tr>\n",
       "</table>\n",
       "<table class=\"simpletable\">\n",
       "<tr>\n",
       "      <td></td>         <th>coef</th>     <th>std err</th>      <th>t</th>      <th>P>|t|</th>  <th>[0.025</th>    <th>0.975]</th>  \n",
       "</tr>\n",
       "<tr>\n",
       "  <th>Intercept</th> <td>   -0.2564</td> <td>    0.433</td> <td>   -0.592</td> <td> 0.557</td> <td>   -1.126</td> <td>    0.613</td>\n",
       "</tr>\n",
       "<tr>\n",
       "  <th>B</th>         <td>   -0.0155</td> <td>    0.010</td> <td>   -1.592</td> <td> 0.118</td> <td>   -0.035</td> <td>    0.004</td>\n",
       "</tr>\n",
       "<tr>\n",
       "  <th>StoB</th>      <td>    0.2639</td> <td>    0.139</td> <td>    1.892</td> <td> 0.064</td> <td>   -0.016</td> <td>    0.544</td>\n",
       "</tr>\n",
       "<tr>\n",
       "  <th>HtoB</th>      <td>    0.0211</td> <td>    0.015</td> <td>    1.410</td> <td> 0.165</td> <td>   -0.009</td> <td>    0.051</td>\n",
       "</tr>\n",
       "<tr>\n",
       "  <th>BtoD</th>      <td>    0.0079</td> <td>    0.008</td> <td>    0.961</td> <td> 0.341</td> <td>   -0.009</td> <td>    0.024</td>\n",
       "</tr>\n",
       "<tr>\n",
       "  <th>TtoB</th>      <td>    0.0695</td> <td>    0.085</td> <td>    0.819</td> <td> 0.416</td> <td>   -0.101</td> <td>    0.240</td>\n",
       "</tr>\n",
       "<tr>\n",
       "  <th>PF</th>        <td>   -0.0503</td> <td>    0.105</td> <td>   -0.477</td> <td> 0.635</td> <td>   -0.262</td> <td>    0.161</td>\n",
       "</tr>\n",
       "<tr>\n",
       "  <th>Xb</th>        <td>    0.0501</td> <td>    0.030</td> <td>    1.661</td> <td> 0.103</td> <td>   -0.010</td> <td>    0.111</td>\n",
       "</tr>\n",
       "<tr>\n",
       "  <th>E</th>         <td>   -0.0113</td> <td>    0.004</td> <td>   -2.901</td> <td> 0.005</td> <td>   -0.019</td> <td>   -0.003</td>\n",
       "</tr>\n",
       "</table>\n",
       "<table class=\"simpletable\">\n",
       "<tr>\n",
       "  <th>Omnibus:</th>       <td>52.919</td> <th>  Durbin-Watson:     </th> <td>   1.725</td>\n",
       "</tr>\n",
       "<tr>\n",
       "  <th>Prob(Omnibus):</th> <td> 0.000</td> <th>  Jarque-Bera (JB):  </th> <td> 308.925</td>\n",
       "</tr>\n",
       "<tr>\n",
       "  <th>Skew:</th>          <td> 2.325</td> <th>  Prob(JB):          </th> <td>8.28e-68</td>\n",
       "</tr>\n",
       "<tr>\n",
       "  <th>Kurtosis:</th>      <td>12.996</td> <th>  Cond. No.          </th> <td>1.35e+03</td>\n",
       "</tr>\n",
       "</table><br/><br/>Notes:<br/>[1] Standard Errors assume that the covariance matrix of the errors is correctly specified.<br/>[2] The condition number is large, 1.35e+03. This might indicate that there are<br/>strong multicollinearity or other numerical problems."
      ],
      "text/plain": [
       "<class 'statsmodels.iolib.summary.Summary'>\n",
       "\"\"\"\n",
       "                            OLS Regression Results                            \n",
       "==============================================================================\n",
       "Dep. Variable:                    D50   R-squared:                       0.487\n",
       "Model:                            OLS   Adj. R-squared:                  0.408\n",
       "Method:                 Least Squares   F-statistic:                     6.160\n",
       "Date:                Mon, 14 Nov 2022   Prob (F-statistic):           1.41e-05\n",
       "Time:                        09:13:09   Log-Likelihood:                 66.558\n",
       "No. Observations:                  61   AIC:                            -115.1\n",
       "Df Residuals:                      52   BIC:                            -96.12\n",
       "Df Model:                           8                                         \n",
       "Covariance Type:            nonrobust                                         \n",
       "==============================================================================\n",
       "                 coef    std err          t      P>|t|      [0.025      0.975]\n",
       "------------------------------------------------------------------------------\n",
       "Intercept     -0.2564      0.433     -0.592      0.557      -1.126       0.613\n",
       "B             -0.0155      0.010     -1.592      0.118      -0.035       0.004\n",
       "StoB           0.2639      0.139      1.892      0.064      -0.016       0.544\n",
       "HtoB           0.0211      0.015      1.410      0.165      -0.009       0.051\n",
       "BtoD           0.0079      0.008      0.961      0.341      -0.009       0.024\n",
       "TtoB           0.0695      0.085      0.819      0.416      -0.101       0.240\n",
       "PF            -0.0503      0.105     -0.477      0.635      -0.262       0.161\n",
       "Xb             0.0501      0.030      1.661      0.103      -0.010       0.111\n",
       "E             -0.0113      0.004     -2.901      0.005      -0.019      -0.003\n",
       "==============================================================================\n",
       "Omnibus:                       52.919   Durbin-Watson:                   1.725\n",
       "Prob(Omnibus):                  0.000   Jarque-Bera (JB):              308.925\n",
       "Skew:                           2.325   Prob(JB):                     8.28e-68\n",
       "Kurtosis:                      12.996   Cond. No.                     1.35e+03\n",
       "==============================================================================\n",
       "\n",
       "Notes:\n",
       "[1] Standard Errors assume that the covariance matrix of the errors is correctly specified.\n",
       "[2] The condition number is large, 1.35e+03. This might indicate that there are\n",
       "strong multicollinearity or other numerical problems.\n",
       "\"\"\""
      ]
     },
     "execution_count": 59,
     "metadata": {},
     "output_type": "execute_result"
    }
   ],
   "source": [
    "res = result.fit()\n",
    "res.summary()"
   ]
  },
  {
   "cell_type": "code",
   "execution_count": null,
   "id": "897529b8",
   "metadata": {},
   "outputs": [],
   "source": []
  }
 ],
 "metadata": {
  "kernelspec": {
   "display_name": "Python 3 (ipykernel)",
   "language": "python",
   "name": "python3"
  },
  "language_info": {
   "codemirror_mode": {
    "name": "ipython",
    "version": 3
   },
   "file_extension": ".py",
   "mimetype": "text/x-python",
   "name": "python",
   "nbconvert_exporter": "python",
   "pygments_lexer": "ipython3",
   "version": "3.9.7"
  }
 },
 "nbformat": 4,
 "nbformat_minor": 5
}
